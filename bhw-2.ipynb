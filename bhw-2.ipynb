{
 "cells": [
  {
   "cell_type": "code",
   "execution_count": 10,
   "metadata": {},
   "outputs": [],
   "source": [
    "import math\n",
    "import torch\n",
    "import torch.nn as nn\n",
    "import torch.nn.functional as F\n",
    "from tqdm import tqdm\n",
    "import sacrebleu\n",
    "from torchtext.vocab import build_vocab_from_iterator\n",
    "from torch.utils.data import TensorDataset, DataLoader\n",
    "\n",
    "device = torch.device('mps')"
   ]
  },
  {
   "cell_type": "code",
   "execution_count": 11,
   "metadata": {},
   "outputs": [],
   "source": [
    "def dataset_iterator(path):\n",
    "    with open(path) as texts:\n",
    "        for text in texts:\n",
    "            yield text.split()\n",
    "\n",
    "vocab_en = build_vocab_from_iterator(\n",
    "    dataset_iterator('./data/train.de-en.en'),\n",
    "    specials=['<pad>', '<unk>', '<bos>', '<eos>'], min_freq=10\n",
    ")\n",
    "vocab_en.set_default_index(vocab_en['<unk>'])\n",
    "\n",
    "vocab_de = build_vocab_from_iterator(\n",
    "    dataset_iterator('./data/train.de-en.de'),\n",
    "    specials=['<pad>', '<unk>', '<bos>', '<eos>'], min_freq=10\n",
    ")\n",
    "vocab_de.set_default_index(vocab_de['<unk>'])\n",
    "\n",
    "max_length = 64\n",
    "def process_data(file_path, vocab, max_len=max_length):\n",
    "    tokens_list = []\n",
    "    with open(file_path) as f:\n",
    "        for line in f:\n",
    "            tokens = line.strip().split()[:max_len-2]\n",
    "            indices = [vocab['<bos>']] + [vocab[token] for token in tokens] + [vocab['<eos>']]\n",
    "            if len(indices) < max_len:\n",
    "                indices += [vocab['<pad>']] * (max_len - len(indices))\n",
    "            else:\n",
    "                indices = indices[:max_len]\n",
    "            tokens_list.append(indices)\n",
    "    return torch.tensor(tokens_list, dtype=torch.long)\n",
    "\n",
    "tokenized_train_de = process_data('./data/train.de-en.de', vocab_de)\n",
    "tokenized_train_en = process_data('./data/train.de-en.en', vocab_en)\n",
    "tokenized_val_de = process_data('./data/val.de-en.de', vocab_de)\n",
    "tokenized_val_en = process_data('./data/val.de-en.en', vocab_en)\n",
    "\n",
    "train_dataset = TensorDataset(tokenized_train_de, tokenized_train_en)\n",
    "val_dataset = TensorDataset(tokenized_val_de, tokenized_val_en)\n",
    "\n",
    "batch_size = 64\n",
    "train_loader = DataLoader(train_dataset, batch_size, shuffle=True)\n",
    "val_loader = DataLoader(val_dataset, batch_size, shuffle=False)"
   ]
  },
  {
   "cell_type": "code",
   "execution_count": 12,
   "metadata": {},
   "outputs": [],
   "source": [
    "class PositionalEncoding(nn.Module):\n",
    "    def __init__(self, d_model, max_len=5000):\n",
    "        super().__init__()\n",
    "        pe = torch.zeros(max_len, d_model)\n",
    "        position = torch.arange(0, max_len, dtype=torch.float).unsqueeze(1)\n",
    "        div_term = torch.exp(torch.arange(0, d_model, 2).float() * (-math.log(10000.0) / d_model))\n",
    "        pe[:, 0::2] = torch.sin(position * div_term)\n",
    "        pe[:, 1::2] = torch.cos(position * div_term)\n",
    "        pe = pe.unsqueeze(0)\n",
    "        self.register_buffer('pe', pe)\n",
    "\n",
    "    def forward(self, x):\n",
    "        x = x + self.pe[:, :x.size(1)]\n",
    "        return x\n",
    "\n",
    "class MultiHeadedAttention(nn.Module):\n",
    "    def __init__(self, heads, d_model, dropout=0.1):\n",
    "        super().__init__()\n",
    "        self.d_model = d_model\n",
    "        self.d_k = d_model // heads\n",
    "        self.h = heads\n",
    "\n",
    "        self.q_linear = nn.Linear(d_model, d_model)\n",
    "        self.k_linear = nn.Linear(d_model, d_model)\n",
    "        self.v_linear = nn.Linear(d_model, d_model)\n",
    "        self.dropout = nn.Dropout(dropout)\n",
    "        self.out = nn.Linear(d_model, d_model)\n",
    "\n",
    "    def forward(self, q, k, v, mask=None):\n",
    "        batch_size = q.size(0)\n",
    "\n",
    "        q = self.q_linear(q).view(batch_size, -1, self.h, self.d_k).transpose(1, 2)\n",
    "        k = self.k_linear(k).view(batch_size, -1, self.h, self.d_k).transpose(1, 2)\n",
    "        v = self.v_linear(v).view(batch_size, -1, self.h, self.d_k).transpose(1, 2)\n",
    "\n",
    "        scores = torch.matmul(q, k.transpose(-2, -1)) / math.sqrt(self.d_k)\n",
    "        if mask is not None:\n",
    "            scores = scores.masked_fill(mask == 0, -1e9)\n",
    "        attn = F.softmax(scores, dim=-1)\n",
    "        attn = self.dropout(attn)\n",
    "        output = torch.matmul(attn, v)\n",
    "\n",
    "        output = output.transpose(1, 2).contiguous().view(batch_size, -1, self.d_model)\n",
    "        output = self.out(output)\n",
    "        return output\n",
    "\n",
    "class EncoderLayer(nn.Module):\n",
    "    def __init__(self, d_model, heads, dropout=0.1, ff_dim=2048):\n",
    "        super().__init__()\n",
    "        self.self_attn = MultiHeadedAttention(heads, d_model, dropout)\n",
    "        self.ff = nn.Sequential(\n",
    "            nn.Linear(d_model, ff_dim),\n",
    "            nn.ReLU(),\n",
    "            nn.Dropout(dropout),\n",
    "            nn.Linear(ff_dim, d_model)\n",
    "        )\n",
    "        self.norm1 = nn.LayerNorm(d_model)\n",
    "        self.norm2 = nn.LayerNorm(d_model)\n",
    "        self.dropout1 = nn.Dropout(dropout)\n",
    "        self.dropout2 = nn.Dropout(dropout)\n",
    "\n",
    "    def forward(self, x, mask):\n",
    "        attn_output = self.self_attn(x, x, x, mask)\n",
    "        x = self.norm1(x + self.dropout1(attn_output))\n",
    "        ff_output = self.ff(x)\n",
    "        x = self.norm2(x + self.dropout2(ff_output))\n",
    "        return x\n",
    "\n",
    "class DecoderLayer(nn.Module):\n",
    "    def __init__(self, d_model, heads, dropout=0.1, ff_dim=2048):\n",
    "        super().__init__()\n",
    "        self.self_attn = MultiHeadedAttention(heads, d_model, dropout)\n",
    "        self.enc_attn = MultiHeadedAttention(heads, d_model, dropout)\n",
    "        self.ff = nn.Sequential(\n",
    "            nn.Linear(d_model, ff_dim),\n",
    "            nn.ReLU(),\n",
    "            nn.Dropout(dropout),\n",
    "            nn.Linear(ff_dim, d_model)\n",
    "        )\n",
    "        self.norm1 = nn.LayerNorm(d_model)\n",
    "        self.norm2 = nn.LayerNorm(d_model)\n",
    "        self.norm3 = nn.LayerNorm(d_model)\n",
    "        self.dropout1 = nn.Dropout(dropout)\n",
    "        self.dropout2 = nn.Dropout(dropout)\n",
    "        self.dropout3 = nn.Dropout(dropout)\n",
    "\n",
    "    def forward(self, x, enc_output, src_mask, trg_mask):\n",
    "        self_attn_output = self.self_attn(x, x, x, trg_mask)\n",
    "        x = self.norm1(x + self.dropout1(self_attn_output))\n",
    "        enc_attn_output = self.enc_attn(x, enc_output, enc_output, src_mask)\n",
    "        x = self.norm2(x + self.dropout2(enc_attn_output))\n",
    "        ff_output = self.ff(x)\n",
    "        x = self.norm3(x + self.dropout3(ff_output))\n",
    "        return x\n",
    "\n",
    "class Encoder(nn.Module):\n",
    "    def __init__(self, vocab_size, d_model, N, heads, dropout, max_length):\n",
    "        super().__init__()\n",
    "        self.embed = nn.Embedding(vocab_size, d_model)\n",
    "        self.pe = PositionalEncoding(d_model, max_length)\n",
    "        self.layers = nn.ModuleList([EncoderLayer(d_model, heads, dropout) for _ in range(N)])\n",
    "        self.dropout = nn.Dropout(dropout)\n",
    "\n",
    "    def forward(self, src, mask):\n",
    "        x = self.embed(src)\n",
    "        x = self.pe(x)\n",
    "        x = self.dropout(x)\n",
    "        for layer in self.layers:\n",
    "            x = layer(x, mask)\n",
    "        return x\n",
    "\n",
    "class Decoder(nn.Module):\n",
    "    def __init__(self, vocab_size, d_model, N, heads, dropout, max_length):\n",
    "        super().__init__()\n",
    "        self.embed = nn.Embedding(vocab_size, d_model)\n",
    "        self.pe = PositionalEncoding(d_model, max_length)\n",
    "        self.layers = nn.ModuleList([DecoderLayer(d_model, heads, dropout) for _ in range(N)])\n",
    "        self.dropout = nn.Dropout(dropout)\n",
    "\n",
    "    def forward(self, trg, enc_output, src_mask, trg_mask):\n",
    "        x = self.embed(trg)\n",
    "        x = self.pe(x)\n",
    "        x = self.dropout(x)\n",
    "        for layer in self.layers:\n",
    "            x = layer(x, enc_output, src_mask, trg_mask)\n",
    "        return x\n",
    "\n",
    "class Transformer(nn.Module):\n",
    "    def __init__(self, src_vocab_size, trg_vocab_size, src_pad_idx, trg_pad_idx, d_model=512, N=6, heads=8, dropout=0.1, max_length=100):\n",
    "        super().__init__()\n",
    "        self.encoder = Encoder(src_vocab_size, d_model, N, heads, dropout, max_length)\n",
    "        self.decoder = Decoder(trg_vocab_size, d_model, N, heads, dropout, max_length)\n",
    "        self.fc_out = nn.Linear(d_model, trg_vocab_size)\n",
    "        self.src_pad_idx = src_pad_idx\n",
    "        self.trg_pad_idx = trg_pad_idx\n",
    "        self.max_length = max_length\n",
    "\n",
    "    def make_src_mask(self, src):\n",
    "        src_mask = (src != self.src_pad_idx).unsqueeze(1).unsqueeze(2)\n",
    "        return src_mask\n",
    "\n",
    "    def make_trg_mask(self, trg):\n",
    "        trg_pad_mask = (trg != self.trg_pad_idx).unsqueeze(1).unsqueeze(2)\n",
    "        trg_len = trg.shape[1]\n",
    "        trg_sub_mask = torch.tril(torch.ones((trg_len, trg_len), device=device)).bool()\n",
    "        trg_mask = trg_pad_mask & trg_sub_mask\n",
    "        return trg_mask\n",
    "\n",
    "    def forward(self, src, trg):\n",
    "        src_mask = self.make_src_mask(src)\n",
    "        trg_mask = self.make_trg_mask(trg)\n",
    "        enc_out = self.encoder(src, src_mask)\n",
    "        dec_out = self.decoder(trg, enc_out, src_mask, trg_mask)\n",
    "        output = self.fc_out(dec_out)\n",
    "        return output"
   ]
  },
  {
   "cell_type": "code",
   "execution_count": null,
   "metadata": {},
   "outputs": [],
   "source": [
    "src_vocab_size = len(vocab_de)\n",
    "trg_vocab_size = len(vocab_en)\n",
    "src_pad_idx = vocab_de['<pad>']\n",
    "trg_pad_idx = vocab_en['<pad>']\n",
    "\n",
    "# model = Transformer(\n",
    "#     src_vocab_size, trg_vocab_size,\n",
    "#     src_pad_idx, trg_pad_idx,\n",
    "#     N=3,\n",
    "#     dropout=0.2,\n",
    "#     max_length=max_length\n",
    "# ).to(device)\n",
    "# optimizer = torch.optim.Adam(model.parameters(), lr=0.0005, betas=(0.9, 0.98), eps=1e-9)\n",
    "# criterion = nn.CrossEntropyLoss(ignore_index=trg_pad_idx)\n",
    "\n",
    "model = Transformer(src_vocab_size, trg_vocab_size, src_pad_idx, trg_pad_idx, dropout=0.3, max_length=max_length).to(device)\n",
    "optimizer = torch.optim.Adam(model.parameters(), lr=0.0001)\n",
    "criterion = nn.CrossEntropyLoss(ignore_index=trg_pad_idx)"
   ]
  },
  {
   "cell_type": "code",
   "execution_count": 14,
   "metadata": {},
   "outputs": [],
   "source": [
    "def translate_batch(model, src, max_len, trg_bos_idx, trg_eos_idx, device):\n",
    "    model.eval()\n",
    "    src_mask = model.make_src_mask(src)\n",
    "    enc_out = model.encoder(src, src_mask)\n",
    "\n",
    "    batch_size = src.size(0)\n",
    "    trg = torch.ones(batch_size, 1, dtype=torch.long).fill_(trg_bos_idx).to(device)\n",
    "    for i in range(max_len - 1):\n",
    "        trg_mask = model.make_trg_mask(trg)\n",
    "        with torch.no_grad():\n",
    "            output = model.decoder(trg, enc_out, src_mask, trg_mask)\n",
    "            output = model.fc_out(output)\n",
    "            pred = output.argmax(2)[:, -1].unsqueeze(1)\n",
    "        trg = torch.cat([trg, pred], dim=1)\n",
    "\n",
    "        if (pred == trg_eos_idx).all():\n",
    "            break\n",
    "    return trg\n",
    "\n",
    "def train_model(model, train_loader, val_loader, optimizer, criterion, epochs):\n",
    "    best_bleu = 0.0\n",
    "    history = {'train_loss': [], 'val_loss': [], 'bleu': []}\n",
    "    \n",
    "    for epoch in range(epochs):\n",
    "        model.train()\n",
    "        total_train_loss = 0\n",
    "        for i, (src, trg) in enumerate(tqdm(train_loader, desc=f'Epoch {epoch+1}/{epochs} [Train]')):\n",
    "            src, trg = src.to(device), trg.to(device)\n",
    "            \n",
    "            optimizer.zero_grad()\n",
    "            output = model(src, trg[:, :-1])\n",
    "            loss = criterion(output.reshape(-1, trg_vocab_size), trg[:, 1:].reshape(-1))\n",
    "            loss.backward()\n",
    "            torch.nn.utils.clip_grad_norm_(model.parameters(), 1.0)\n",
    "            optimizer.step()\n",
    "            \n",
    "            total_train_loss += loss.item()\n",
    "        \n",
    "        avg_train_loss = total_train_loss / len(train_loader)\n",
    "        history['train_loss'].append(avg_train_loss)\n",
    "        \n",
    "        model.eval()\n",
    "        total_val_loss = 0\n",
    "        all_hypotheses = []\n",
    "        all_references = []\n",
    "        \n",
    "        with torch.no_grad():\n",
    "            for i, (src, trg) in enumerate(tqdm(val_loader, desc=f'Epoch {epoch+1}/{epochs} [Val]')):\n",
    "                src, trg = src.to(device), trg.to(device)\n",
    "                \n",
    "                output = model(src, trg[:, :-1])\n",
    "                loss = criterion(output.reshape(-1, trg_vocab_size), trg[:, 1:].reshape(-1))\n",
    "                total_val_loss += loss.item()\n",
    "                \n",
    "                trg_pred = translate_batch(\n",
    "                    model, src, max_length, \n",
    "                    vocab_en['<bos>'], vocab_en['<eos>'], device\n",
    "                )\n",
    "                \n",
    "                for i in range(trg_pred.size(0)):\n",
    "                    pred_seq = trg_pred[i].cpu().tolist()\n",
    "                    pred_tokens = []\n",
    "                    for tok in pred_seq:\n",
    "                        if tok == vocab_en['<eos>']:\n",
    "                            break\n",
    "                        if tok != vocab_en['<bos>']:\n",
    "                            pred_tokens.append(vocab_en.lookup_token(tok))\n",
    "                    all_hypotheses.append(' '.join(pred_tokens))\n",
    "                    \n",
    "                    ref_seq = trg[i].cpu().tolist()\n",
    "                    ref_tokens = []\n",
    "                    for tok in ref_seq:\n",
    "                        if tok == vocab_en['<eos>']:\n",
    "                            break\n",
    "                        if tok != vocab_en['<bos>']:\n",
    "                            ref_tokens.append(vocab_en.lookup_token(tok))\n",
    "                    all_references.append(' '.join(ref_tokens))\n",
    "        \n",
    "        avg_val_loss = total_val_loss / len(val_loader)\n",
    "        bleu_score = sacrebleu.corpus_bleu(all_hypotheses, [all_references], tokenize='none').score\n",
    "        history['val_loss'].append(avg_val_loss)\n",
    "        history['bleu'].append(bleu_score)\n",
    "        \n",
    "        print(f'\\nEpoch {epoch+1}/{epochs}:')\n",
    "        print(f'Train Loss: {avg_train_loss:.4f} | Val Loss: {avg_val_loss:.4f}')\n",
    "        print(f'BLEU Score: {bleu_score:.2f}')\n",
    "        \n",
    "        if bleu_score > best_bleu:\n",
    "            best_bleu = bleu_score\n",
    "            torch.save(model.state_dict(), 'best_model.pt')\n",
    "    \n",
    "    print(f'\\nTraining Complete! Best BLEU: {best_bleu:.2f}')\n",
    "    return history"
   ]
  },
  {
   "cell_type": "code",
   "execution_count": 16,
   "metadata": {},
   "outputs": [
    {
     "name": "stderr",
     "output_type": "stream",
     "text": [
      "Epoch 1/20 [Train]: 100%|██████████| 3062/3062 [13:38<00:00,  3.74it/s]\n",
      "Epoch 1/20 [Val]: 100%|██████████| 16/16 [03:14<00:00, 12.14s/it]\n",
      "That's 100 lines that end in a tokenized period ('.')\n",
      "It looks like you forgot to detokenize your test data, which may hurt your score.\n",
      "If you insist your data is detokenized, or don't care, you can suppress this message with the `force` parameter.\n"
     ]
    },
    {
     "name": "stdout",
     "output_type": "stream",
     "text": [
      "\n",
      "Epoch 1/20:\n",
      "Train Loss: 4.1271 | Val Loss: 3.4133\n",
      "BLEU Score: 12.88\n"
     ]
    },
    {
     "name": "stderr",
     "output_type": "stream",
     "text": [
      "Epoch 2/20 [Train]: 100%|██████████| 3062/3062 [13:42<00:00,  3.72it/s]\n",
      "Epoch 2/20 [Val]: 100%|██████████| 16/16 [03:42<00:00, 13.90s/it]\n",
      "That's 100 lines that end in a tokenized period ('.')\n",
      "It looks like you forgot to detokenize your test data, which may hurt your score.\n",
      "If you insist your data is detokenized, or don't care, you can suppress this message with the `force` parameter.\n"
     ]
    },
    {
     "name": "stdout",
     "output_type": "stream",
     "text": [
      "\n",
      "Epoch 2/20:\n",
      "Train Loss: 3.4389 | Val Loss: 2.9369\n",
      "BLEU Score: 18.02\n"
     ]
    },
    {
     "name": "stderr",
     "output_type": "stream",
     "text": [
      "Epoch 3/20 [Train]: 100%|██████████| 3062/3062 [13:42<00:00,  3.72it/s]\n",
      "Epoch 3/20 [Val]: 100%|██████████| 16/16 [03:49<00:00, 14.35s/it]\n",
      "That's 100 lines that end in a tokenized period ('.')\n",
      "It looks like you forgot to detokenize your test data, which may hurt your score.\n",
      "If you insist your data is detokenized, or don't care, you can suppress this message with the `force` parameter.\n"
     ]
    },
    {
     "name": "stdout",
     "output_type": "stream",
     "text": [
      "\n",
      "Epoch 3/20:\n",
      "Train Loss: 3.0526 | Val Loss: 2.6381\n",
      "BLEU Score: 21.80\n"
     ]
    },
    {
     "name": "stderr",
     "output_type": "stream",
     "text": [
      "Epoch 4/20 [Train]: 100%|██████████| 3062/3062 [13:41<00:00,  3.73it/s]\n",
      "Epoch 4/20 [Val]: 100%|██████████| 16/16 [03:14<00:00, 12.13s/it]\n",
      "That's 100 lines that end in a tokenized period ('.')\n",
      "It looks like you forgot to detokenize your test data, which may hurt your score.\n",
      "If you insist your data is detokenized, or don't care, you can suppress this message with the `force` parameter.\n"
     ]
    },
    {
     "name": "stdout",
     "output_type": "stream",
     "text": [
      "\n",
      "Epoch 4/20:\n",
      "Train Loss: 2.7875 | Val Loss: 2.4610\n",
      "BLEU Score: 24.37\n"
     ]
    },
    {
     "name": "stderr",
     "output_type": "stream",
     "text": [
      "Epoch 5/20 [Train]: 100%|██████████| 3062/3062 [13:35<00:00,  3.76it/s]\n",
      "Epoch 5/20 [Val]: 100%|██████████| 16/16 [03:14<00:00, 12.13s/it]\n",
      "That's 100 lines that end in a tokenized period ('.')\n",
      "It looks like you forgot to detokenize your test data, which may hurt your score.\n",
      "If you insist your data is detokenized, or don't care, you can suppress this message with the `force` parameter.\n"
     ]
    },
    {
     "name": "stdout",
     "output_type": "stream",
     "text": [
      "\n",
      "Epoch 5/20:\n",
      "Train Loss: 2.6007 | Val Loss: 2.3332\n",
      "BLEU Score: 26.51\n"
     ]
    },
    {
     "name": "stderr",
     "output_type": "stream",
     "text": [
      "Epoch 6/20 [Train]: 100%|██████████| 3062/3062 [13:38<00:00,  3.74it/s]\n",
      "Epoch 6/20 [Val]: 100%|██████████| 16/16 [02:22<00:00,  8.88s/it]\n",
      "That's 100 lines that end in a tokenized period ('.')\n",
      "It looks like you forgot to detokenize your test data, which may hurt your score.\n",
      "If you insist your data is detokenized, or don't care, you can suppress this message with the `force` parameter.\n"
     ]
    },
    {
     "name": "stdout",
     "output_type": "stream",
     "text": [
      "\n",
      "Epoch 6/20:\n",
      "Train Loss: 2.4635 | Val Loss: 2.2682\n",
      "BLEU Score: 28.06\n"
     ]
    },
    {
     "name": "stderr",
     "output_type": "stream",
     "text": [
      "Epoch 7/20 [Train]: 100%|██████████| 3062/3062 [13:38<00:00,  3.74it/s]\n",
      "Epoch 7/20 [Val]: 100%|██████████| 16/16 [02:36<00:00,  9.76s/it]\n",
      "That's 100 lines that end in a tokenized period ('.')\n",
      "It looks like you forgot to detokenize your test data, which may hurt your score.\n",
      "If you insist your data is detokenized, or don't care, you can suppress this message with the `force` parameter.\n"
     ]
    },
    {
     "name": "stdout",
     "output_type": "stream",
     "text": [
      "\n",
      "Epoch 7/20:\n",
      "Train Loss: 2.3579 | Val Loss: 2.2027\n",
      "BLEU Score: 28.73\n"
     ]
    },
    {
     "name": "stderr",
     "output_type": "stream",
     "text": [
      "Epoch 8/20 [Train]: 100%|██████████| 3062/3062 [13:39<00:00,  3.74it/s]\n",
      "Epoch 8/20 [Val]: 100%|██████████| 16/16 [03:14<00:00, 12.13s/it]\n",
      "That's 100 lines that end in a tokenized period ('.')\n",
      "It looks like you forgot to detokenize your test data, which may hurt your score.\n",
      "If you insist your data is detokenized, or don't care, you can suppress this message with the `force` parameter.\n"
     ]
    },
    {
     "name": "stdout",
     "output_type": "stream",
     "text": [
      "\n",
      "Epoch 8/20:\n",
      "Train Loss: 2.2730 | Val Loss: 2.1704\n",
      "BLEU Score: 29.61\n"
     ]
    },
    {
     "name": "stderr",
     "output_type": "stream",
     "text": [
      "Epoch 9/20 [Train]: 100%|██████████| 3062/3062 [13:41<00:00,  3.73it/s]\n",
      "Epoch 9/20 [Val]: 100%|██████████| 16/16 [02:45<00:00, 10.32s/it]\n",
      "That's 100 lines that end in a tokenized period ('.')\n",
      "It looks like you forgot to detokenize your test data, which may hurt your score.\n",
      "If you insist your data is detokenized, or don't care, you can suppress this message with the `force` parameter.\n"
     ]
    },
    {
     "name": "stdout",
     "output_type": "stream",
     "text": [
      "\n",
      "Epoch 9/20:\n",
      "Train Loss: 2.2030 | Val Loss: 2.1386\n",
      "BLEU Score: 30.02\n"
     ]
    },
    {
     "name": "stderr",
     "output_type": "stream",
     "text": [
      "Epoch 10/20 [Train]: 100%|██████████| 3062/3062 [13:41<00:00,  3.73it/s]\n",
      "Epoch 10/20 [Val]: 100%|██████████| 16/16 [02:55<00:00, 10.97s/it]\n",
      "That's 100 lines that end in a tokenized period ('.')\n",
      "It looks like you forgot to detokenize your test data, which may hurt your score.\n",
      "If you insist your data is detokenized, or don't care, you can suppress this message with the `force` parameter.\n"
     ]
    },
    {
     "name": "stdout",
     "output_type": "stream",
     "text": [
      "\n",
      "Epoch 10/20:\n",
      "Train Loss: 2.1429 | Val Loss: 2.1115\n",
      "BLEU Score: 29.95\n"
     ]
    },
    {
     "name": "stderr",
     "output_type": "stream",
     "text": [
      "Epoch 11/20 [Train]: 100%|██████████| 3062/3062 [13:42<00:00,  3.72it/s]\n",
      "Epoch 11/20 [Val]: 100%|██████████| 16/16 [03:04<00:00, 11.50s/it]\n",
      "That's 100 lines that end in a tokenized period ('.')\n",
      "It looks like you forgot to detokenize your test data, which may hurt your score.\n",
      "If you insist your data is detokenized, or don't care, you can suppress this message with the `force` parameter.\n"
     ]
    },
    {
     "name": "stdout",
     "output_type": "stream",
     "text": [
      "\n",
      "Epoch 11/20:\n",
      "Train Loss: 2.0909 | Val Loss: 2.0968\n",
      "BLEU Score: 30.84\n"
     ]
    },
    {
     "name": "stderr",
     "output_type": "stream",
     "text": [
      "Epoch 12/20 [Train]: 100%|██████████| 3062/3062 [13:40<00:00,  3.73it/s]\n",
      "Epoch 12/20 [Val]: 100%|██████████| 16/16 [03:17<00:00, 12.35s/it]\n",
      "That's 100 lines that end in a tokenized period ('.')\n",
      "It looks like you forgot to detokenize your test data, which may hurt your score.\n",
      "If you insist your data is detokenized, or don't care, you can suppress this message with the `force` parameter.\n"
     ]
    },
    {
     "name": "stdout",
     "output_type": "stream",
     "text": [
      "\n",
      "Epoch 12/20:\n",
      "Train Loss: 2.0444 | Val Loss: 2.0710\n",
      "BLEU Score: 31.07\n"
     ]
    },
    {
     "name": "stderr",
     "output_type": "stream",
     "text": [
      "Epoch 13/20 [Train]: 100%|██████████| 3062/3062 [13:39<00:00,  3.74it/s]\n",
      "Epoch 13/20 [Val]: 100%|██████████| 16/16 [03:39<00:00, 13.69s/it]\n",
      "That's 100 lines that end in a tokenized period ('.')\n",
      "It looks like you forgot to detokenize your test data, which may hurt your score.\n",
      "If you insist your data is detokenized, or don't care, you can suppress this message with the `force` parameter.\n"
     ]
    },
    {
     "name": "stdout",
     "output_type": "stream",
     "text": [
      "\n",
      "Epoch 13/20:\n",
      "Train Loss: 2.0025 | Val Loss: 2.0678\n",
      "BLEU Score: 31.30\n"
     ]
    },
    {
     "name": "stderr",
     "output_type": "stream",
     "text": [
      "Epoch 14/20 [Train]: 100%|██████████| 3062/3062 [13:40<00:00,  3.73it/s]\n",
      "Epoch 14/20 [Val]: 100%|██████████| 16/16 [02:48<00:00, 10.53s/it]\n",
      "That's 100 lines that end in a tokenized period ('.')\n",
      "It looks like you forgot to detokenize your test data, which may hurt your score.\n",
      "If you insist your data is detokenized, or don't care, you can suppress this message with the `force` parameter.\n"
     ]
    },
    {
     "name": "stdout",
     "output_type": "stream",
     "text": [
      "\n",
      "Epoch 14/20:\n",
      "Train Loss: 1.9647 | Val Loss: 2.0419\n",
      "BLEU Score: 31.51\n"
     ]
    },
    {
     "name": "stderr",
     "output_type": "stream",
     "text": [
      "Epoch 15/20 [Train]: 100%|██████████| 3062/3062 [13:43<00:00,  3.72it/s]\n",
      "Epoch 15/20 [Val]: 100%|██████████| 16/16 [04:08<00:00, 15.51s/it]\n",
      "That's 100 lines that end in a tokenized period ('.')\n",
      "It looks like you forgot to detokenize your test data, which may hurt your score.\n",
      "If you insist your data is detokenized, or don't care, you can suppress this message with the `force` parameter.\n"
     ]
    },
    {
     "name": "stdout",
     "output_type": "stream",
     "text": [
      "\n",
      "Epoch 15/20:\n",
      "Train Loss: 1.9291 | Val Loss: 2.0461\n",
      "BLEU Score: 32.10\n"
     ]
    },
    {
     "name": "stderr",
     "output_type": "stream",
     "text": [
      "Epoch 16/20 [Train]: 100%|██████████| 3062/3062 [13:42<00:00,  3.72it/s]\n",
      "Epoch 16/20 [Val]: 100%|██████████| 16/16 [02:24<00:00,  9.02s/it]\n",
      "That's 100 lines that end in a tokenized period ('.')\n",
      "It looks like you forgot to detokenize your test data, which may hurt your score.\n",
      "If you insist your data is detokenized, or don't care, you can suppress this message with the `force` parameter.\n"
     ]
    },
    {
     "name": "stdout",
     "output_type": "stream",
     "text": [
      "\n",
      "Epoch 16/20:\n",
      "Train Loss: 1.8970 | Val Loss: 2.0314\n",
      "BLEU Score: 32.00\n"
     ]
    },
    {
     "name": "stderr",
     "output_type": "stream",
     "text": [
      "Epoch 17/20 [Train]: 100%|██████████| 3062/3062 [13:40<00:00,  3.73it/s]\n",
      "Epoch 17/20 [Val]: 100%|██████████| 16/16 [02:11<00:00,  8.23s/it]\n",
      "That's 100 lines that end in a tokenized period ('.')\n",
      "It looks like you forgot to detokenize your test data, which may hurt your score.\n",
      "If you insist your data is detokenized, or don't care, you can suppress this message with the `force` parameter.\n"
     ]
    },
    {
     "name": "stdout",
     "output_type": "stream",
     "text": [
      "\n",
      "Epoch 17/20:\n",
      "Train Loss: 1.8667 | Val Loss: 2.0337\n",
      "BLEU Score: 32.21\n"
     ]
    },
    {
     "name": "stderr",
     "output_type": "stream",
     "text": [
      "Epoch 18/20 [Train]: 100%|██████████| 3062/3062 [13:42<00:00,  3.72it/s]\n",
      "Epoch 18/20 [Val]: 100%|██████████| 16/16 [02:38<00:00,  9.88s/it]\n",
      "That's 100 lines that end in a tokenized period ('.')\n",
      "It looks like you forgot to detokenize your test data, which may hurt your score.\n",
      "If you insist your data is detokenized, or don't care, you can suppress this message with the `force` parameter.\n"
     ]
    },
    {
     "name": "stdout",
     "output_type": "stream",
     "text": [
      "\n",
      "Epoch 18/20:\n",
      "Train Loss: 1.8392 | Val Loss: 2.0248\n",
      "BLEU Score: 32.11\n"
     ]
    },
    {
     "name": "stderr",
     "output_type": "stream",
     "text": [
      "Epoch 19/20 [Train]: 100%|██████████| 3062/3062 [13:40<00:00,  3.73it/s]\n",
      "Epoch 19/20 [Val]: 100%|██████████| 16/16 [02:10<00:00,  8.14s/it]\n",
      "That's 100 lines that end in a tokenized period ('.')\n",
      "It looks like you forgot to detokenize your test data, which may hurt your score.\n",
      "If you insist your data is detokenized, or don't care, you can suppress this message with the `force` parameter.\n"
     ]
    },
    {
     "name": "stdout",
     "output_type": "stream",
     "text": [
      "\n",
      "Epoch 19/20:\n",
      "Train Loss: 1.8126 | Val Loss: 2.0241\n",
      "BLEU Score: 32.51\n"
     ]
    },
    {
     "name": "stderr",
     "output_type": "stream",
     "text": [
      "Epoch 20/20 [Train]: 100%|██████████| 3062/3062 [13:40<00:00,  3.73it/s]\n",
      "Epoch 20/20 [Val]: 100%|██████████| 16/16 [02:09<00:00,  8.07s/it]\n",
      "That's 100 lines that end in a tokenized period ('.')\n",
      "It looks like you forgot to detokenize your test data, which may hurt your score.\n",
      "If you insist your data is detokenized, or don't care, you can suppress this message with the `force` parameter.\n"
     ]
    },
    {
     "name": "stdout",
     "output_type": "stream",
     "text": [
      "\n",
      "Epoch 20/20:\n",
      "Train Loss: 1.7877 | Val Loss: 2.0239\n",
      "BLEU Score: 32.15\n",
      "\n",
      "Training Complete! Best BLEU: 32.51\n"
     ]
    }
   ],
   "source": [
    "history = train_model(\n",
    "    model, train_loader, val_loader,\n",
    "    optimizer, criterion, epochs=20\n",
    ")"
   ]
  },
  {
   "cell_type": "code",
   "execution_count": 17,
   "metadata": {},
   "outputs": [
    {
     "data": {
      "image/png": "[encoded data removed]",
      "text/plain": [
       "<Figure size 1200x500 with 2 Axes>"
      ]
     },
     "metadata": {},
     "output_type": "display_data"
    }
   ],
   "source": [
    "import matplotlib.pyplot as plt\n",
    "\n",
    "plt.figure(figsize=(12, 5))\n",
    "plt.subplot(1, 2, 1)\n",
    "plt.plot(history['train_loss'], label='Train Loss')\n",
    "plt.plot(history['val_loss'], label='Val Loss')\n",
    "plt.title('Training and Validation Loss')\n",
    "plt.xlabel('Epoch')\n",
    "plt.ylabel('Loss')\n",
    "plt.legend()\n",
    "\n",
    "plt.subplot(1, 2, 2)\n",
    "plt.plot(history['bleu'])\n",
    "plt.title('Validation BLEU Score')\n",
    "plt.xlabel('Epoch')\n",
    "plt.ylabel('BLEU')\n",
    "plt.tight_layout()\n",
    "plt.savefig('training_metrics.png')\n",
    "plt.show()"
   ]
  },
  {
   "cell_type": "code",
   "execution_count": 18,
   "metadata": {},
   "outputs": [
    {
     "name": "stderr",
     "output_type": "stream",
     "text": [
      "100%|██████████| 47/47 [03:32<00:00,  4.53s/it]\n"
     ]
    }
   ],
   "source": [
    "test_de = process_data('./data/test1.de-en.de', vocab_de)\n",
    "test_loader = DataLoader(test_de, batch_size=batch_size, shuffle=False)\n",
    "\n",
    "def generate_translations(model, test_loader, output_file):\n",
    "    model.eval()\n",
    "    trg_bos_idx = vocab_en['<bos>']\n",
    "    trg_eos_idx = vocab_en['<eos>']\n",
    "    with open(output_file, 'w') as f:\n",
    "        for src in tqdm(test_loader):\n",
    "            src = src.to(device)\n",
    "            trg = translate_batch(model, src, max_length, trg_bos_idx, trg_eos_idx, device)\n",
    "            trg = trg.cpu().numpy()\n",
    "            for seq in trg:\n",
    "                tokens = []\n",
    "                for tok in seq:\n",
    "                    tok = tok.item()\n",
    "                    if tok == trg_bos_idx:\n",
    "                        continue\n",
    "                    if tok == trg_eos_idx:\n",
    "                        break\n",
    "                    tokens.append(vocab_en.lookup_token(tok))\n",
    "                line = ' '.join(tokens)\n",
    "                f.write(line + '\\n')\n",
    "\n",
    "generate_translations(model, test_loader, 'test1.de-en.en')"
   ]
  },
  {
   "cell_type": "markdown",
   "metadata": {},
   "source": [
    "<img src=\"https://media1.tenor.com/m/HleFU8PrawUAAAAC/sigh-ladybug.gif\">"
   ]
  },
  {
   "cell_type": "markdown",
   "metadata": {},
   "source": [
    "<img src=\"https://media1.tenor.com/m/3onS--0uT0cAAAAC/pain-suffering.gif\">"
   ]
  }
 ],
 "metadata": {
  "kernelspec": {
   "display_name": "base",
   "language": "python",
   "name": "python3"
  },
  "language_info": {
   "codemirror_mode": {
    "name": "ipython",
    "version": 3
   },
   "file_extension": ".py",
   "mimetype": "text/x-python",
   "name": "python",
   "nbconvert_exporter": "python",
   "pygments_lexer": "ipython3",
   "version": "3.12.2"
  }
 },
 "nbformat": 4,
 "nbformat_minor": 4
}
